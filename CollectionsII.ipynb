{
  "nbformat": 4,
  "nbformat_minor": 0,
  "metadata": {
    "colab": {
      "name": "CollectionsII.ipynb",
      "provenance": [],
      "collapsed_sections": [],
      "authorship_tag": "ABX9TyNOKS9g9dB3cotW8fl8nKfT",
      "include_colab_link": true
    },
    "kernelspec": {
      "name": "python3",
      "display_name": "Python 3"
    },
    "language_info": {
      "name": "python"
    }
  },
  "cells": [
    {
      "cell_type": "markdown",
      "metadata": {
        "id": "view-in-github",
        "colab_type": "text"
      },
      "source": [
        "<a href=\"https://colab.research.google.com/github/Vinicius-de-Morais/Python_Collections/blob/main/CollectionsII.ipynb\" target=\"_parent\"><img src=\"https://colab.research.google.com/assets/colab-badge.svg\" alt=\"Open In Colab\"/></a>"
      ]
    },
    {
      "cell_type": "markdown",
      "metadata": {
        "id": "9x5dRDzugcYf"
      },
      "source": [
        "# Conjuntos"
      ]
    },
    {
      "cell_type": "code",
      "metadata": {
        "id": "JIwLAWGPgM1t"
      },
      "source": [
        "usuarios_data_science = [15, 26, 45, 56]\n",
        "usuarios_machine_learning = [12, 26, 45, 50]"
      ],
      "execution_count": null,
      "outputs": []
    },
    {
      "cell_type": "code",
      "metadata": {
        "colab": {
          "base_uri": "https://localhost:8080/"
        },
        "id": "SNyU3EOWhFxI",
        "outputId": "604436c0-e0be-480b-eb1f-8c95bec32cba"
      },
      "source": [
        "assistiram = usuarios_data_science.copy()\n",
        "assistiram.extend(usuarios_machine_learning)\n",
        "assistiram"
      ],
      "execution_count": null,
      "outputs": [
        {
          "output_type": "execute_result",
          "data": {
            "text/plain": [
              "[15, 26, 45, 56, 12, 26, 45, 50]"
            ]
          },
          "metadata": {},
          "execution_count": 3
        }
      ]
    },
    {
      "cell_type": "code",
      "metadata": {
        "colab": {
          "base_uri": "https://localhost:8080/"
        },
        "id": "15SlTAfDh99z",
        "outputId": "b178531a-ea6d-43ff-dd9c-889b91e6ebad"
      },
      "source": [
        "set(assistiram)"
      ],
      "execution_count": null,
      "outputs": [
        {
          "output_type": "execute_result",
          "data": {
            "text/plain": [
              "{12, 15, 26, 45, 50, 56}"
            ]
          },
          "metadata": {},
          "execution_count": 4
        }
      ]
    },
    {
      "cell_type": "code",
      "metadata": {
        "colab": {
          "base_uri": "https://localhost:8080/"
        },
        "id": "J5bYWP-siZ6a",
        "outputId": "0197ff80-850f-4f4a-dac7-7cc9f0d85e82"
      },
      "source": [
        "set([1,3,5,6])"
      ],
      "execution_count": null,
      "outputs": [
        {
          "output_type": "execute_result",
          "data": {
            "text/plain": [
              "{1, 3, 5, 6}"
            ]
          },
          "metadata": {},
          "execution_count": 5
        }
      ]
    },
    {
      "cell_type": "code",
      "metadata": {
        "colab": {
          "base_uri": "https://localhost:8080/"
        },
        "id": "rgDLNPiIixNt",
        "outputId": "aa4a2f69-f63c-4eeb-95eb-2564b61404ad"
      },
      "source": [
        "{1,2,1,5,4,6}"
      ],
      "execution_count": null,
      "outputs": [
        {
          "output_type": "execute_result",
          "data": {
            "text/plain": [
              "{1, 2, 4, 5, 6}"
            ]
          },
          "metadata": {},
          "execution_count": 6
        }
      ]
    },
    {
      "cell_type": "code",
      "metadata": {
        "colab": {
          "base_uri": "https://localhost:8080/"
        },
        "id": "BfePbXyoi0-e",
        "outputId": "722d4e30-75b5-4c8a-f3f3-7bf7bbb0f4bc"
      },
      "source": [
        "type({1,2,1,5,6})"
      ],
      "execution_count": null,
      "outputs": [
        {
          "output_type": "execute_result",
          "data": {
            "text/plain": [
              "set"
            ]
          },
          "metadata": {},
          "execution_count": 8
        }
      ]
    },
    {
      "cell_type": "code",
      "metadata": {
        "id": "cLEyvwdskAUd"
      },
      "source": [
        "usuarios_data_science = {15, 26, 45, 56}\n",
        "usuarios_machine_learning = {12, 26, 45, 50}"
      ],
      "execution_count": null,
      "outputs": []
    },
    {
      "cell_type": "code",
      "metadata": {
        "colab": {
          "base_uri": "https://localhost:8080/"
        },
        "id": "uNT2AntzkGcj",
        "outputId": "e846e91d-a5ff-4039-b2fb-168d1ba74608"
      },
      "source": [
        "usuarios_data_science | usuarios_machine_learning"
      ],
      "execution_count": null,
      "outputs": [
        {
          "output_type": "execute_result",
          "data": {
            "text/plain": [
              "{12, 15, 26, 45, 50, 56}"
            ]
          },
          "metadata": {},
          "execution_count": 10
        }
      ]
    },
    {
      "cell_type": "code",
      "metadata": {
        "colab": {
          "base_uri": "https://localhost:8080/"
        },
        "id": "wV9irh5wkKqC",
        "outputId": "e7d4acd6-cb3e-4998-f049-679e70a6449e"
      },
      "source": [
        "usuarios_data_science & usuarios_machine_learning"
      ],
      "execution_count": null,
      "outputs": [
        {
          "output_type": "execute_result",
          "data": {
            "text/plain": [
              "{26, 45}"
            ]
          },
          "metadata": {},
          "execution_count": 11
        }
      ]
    },
    {
      "cell_type": "code",
      "metadata": {
        "colab": {
          "base_uri": "https://localhost:8080/"
        },
        "id": "8TDeA4jwmCQn",
        "outputId": "5c67c72d-67af-425a-82e1-c4049d6414cc"
      },
      "source": [
        "usuarios_data_science - usuarios_machine_learning"
      ],
      "execution_count": null,
      "outputs": [
        {
          "output_type": "execute_result",
          "data": {
            "text/plain": [
              "{15, 56}"
            ]
          },
          "metadata": {},
          "execution_count": 13
        }
      ]
    },
    {
      "cell_type": "code",
      "metadata": {
        "id": "m2pyR5N3m6hQ"
      },
      "source": [
        "users = {2,45,67,55,669,901}"
      ],
      "execution_count": null,
      "outputs": []
    },
    {
      "cell_type": "code",
      "metadata": {
        "colab": {
          "base_uri": "https://localhost:8080/"
        },
        "id": "agKG0-EvIVgU",
        "outputId": "894ab6ff-d2ea-4289-b02e-c03c15ea0f66"
      },
      "source": [
        "usuarios = frozenset(users)\n",
        "usuarios"
      ],
      "execution_count": null,
      "outputs": [
        {
          "output_type": "execute_result",
          "data": {
            "text/plain": [
              "frozenset({2, 45, 55, 67, 669, 901})"
            ]
          },
          "metadata": {},
          "execution_count": 4
        }
      ]
    },
    {
      "cell_type": "code",
      "metadata": {
        "id": "Yag1NwhuIgEq"
      },
      "source": [
        "texto = 'Bem vindo meu nome é Vinicius eu gosto muito de nomes e tenho o meu cachorro e gosto muito de cachorro'"
      ],
      "execution_count": null,
      "outputs": []
    },
    {
      "cell_type": "code",
      "metadata": {
        "colab": {
          "base_uri": "https://localhost:8080/"
        },
        "id": "ffbetXAUJJcz",
        "outputId": "7ee17a7c-eb0d-4155-9d9e-78354d774c0c"
      },
      "source": [
        "palavras = texto.split()\n",
        "palavras"
      ],
      "execution_count": null,
      "outputs": [
        {
          "output_type": "execute_result",
          "data": {
            "text/plain": [
              "['Bem',\n",
              " 'vindo',\n",
              " 'meu',\n",
              " 'nome',\n",
              " 'é',\n",
              " 'Vinicius',\n",
              " 'eu',\n",
              " 'gosto',\n",
              " 'muito',\n",
              " 'de',\n",
              " 'nomes',\n",
              " 'e',\n",
              " 'tenho',\n",
              " 'o',\n",
              " 'meu',\n",
              " 'cachorro',\n",
              " 'e',\n",
              " 'gosto',\n",
              " 'muito',\n",
              " 'de',\n",
              " 'cachorro']"
            ]
          },
          "metadata": {},
          "execution_count": 6
        }
      ]
    },
    {
      "cell_type": "code",
      "metadata": {
        "colab": {
          "base_uri": "https://localhost:8080/"
        },
        "id": "pJFDv9RHJOwE",
        "outputId": "28f1e791-69d2-4c2d-d956-b7e638ea5c67"
      },
      "source": [
        "set(palavras)"
      ],
      "execution_count": null,
      "outputs": [
        {
          "output_type": "execute_result",
          "data": {
            "text/plain": [
              "{'Bem',\n",
              " 'Vinicius',\n",
              " 'cachorro',\n",
              " 'de',\n",
              " 'e',\n",
              " 'eu',\n",
              " 'gosto',\n",
              " 'meu',\n",
              " 'muito',\n",
              " 'nome',\n",
              " 'nomes',\n",
              " 'o',\n",
              " 'tenho',\n",
              " 'vindo',\n",
              " 'é'}"
            ]
          },
          "metadata": {},
          "execution_count": 7
        }
      ]
    },
    {
      "cell_type": "markdown",
      "metadata": {
        "id": "zunlGRGuKQbs"
      },
      "source": [
        "# Dicionário"
      ]
    },
    {
      "cell_type": "code",
      "metadata": {
        "id": "0EXrlpfdJRWY"
      },
      "source": [
        "aparicoes = {\n",
        "    'Vinicius': 1,\n",
        "    'cachorro': 2,\n",
        "    'nome': 1,\n",
        "    'vindo': 1\n",
        "}"
      ],
      "execution_count": null,
      "outputs": []
    },
    {
      "cell_type": "code",
      "metadata": {
        "colab": {
          "base_uri": "https://localhost:8080/"
        },
        "id": "TFrMrzQzKxSV",
        "outputId": "6f72b819-a4c7-40ba-8abc-7131aa2671f9"
      },
      "source": [
        "type(aparicoes)"
      ],
      "execution_count": null,
      "outputs": [
        {
          "output_type": "execute_result",
          "data": {
            "text/plain": [
              "dict"
            ]
          },
          "metadata": {},
          "execution_count": 10
        }
      ]
    },
    {
      "cell_type": "code",
      "metadata": {
        "colab": {
          "base_uri": "https://localhost:8080/"
        },
        "id": "Z_62l7ltK2_F",
        "outputId": "d5507d5e-da80-4748-d799-f7874717d500"
      },
      "source": [
        "aparicoes['Carlos'] = 1\n",
        "aparicoes"
      ],
      "execution_count": null,
      "outputs": [
        {
          "output_type": "execute_result",
          "data": {
            "text/plain": [
              "{'Carlos': 1, 'Vinicius': 1, 'cachorro': 2, 'nome': 1, 'vindo': 1}"
            ]
          },
          "metadata": {},
          "execution_count": 12
        }
      ]
    },
    {
      "cell_type": "code",
      "metadata": {
        "colab": {
          "base_uri": "https://localhost:8080/"
        },
        "id": "YYq0p75TNLoE",
        "outputId": "cb6751f5-9060-49ff-bf6a-9835dd92c02d"
      },
      "source": [
        "aparicoes['Carlos'] = 3\n",
        "aparicoes"
      ],
      "execution_count": null,
      "outputs": [
        {
          "output_type": "execute_result",
          "data": {
            "text/plain": [
              "{'Carlos': 3, 'Vinicius': 1, 'cachorro': 2, 'nome': 1, 'vindo': 1}"
            ]
          },
          "metadata": {},
          "execution_count": 13
        }
      ]
    },
    {
      "cell_type": "code",
      "metadata": {
        "id": "4r1E3REhNQFg",
        "colab": {
          "base_uri": "https://localhost:8080/"
        },
        "outputId": "bdf4264d-3e03-4a0b-e6ca-c193d73c4d01"
      },
      "source": [
        "texto = 'Bem vindo meu nome é Vinicius eu gosto muito de nomes e tenho o meu cachorro e gosto muito de cachorro'\n",
        "texto = texto.lower()\n",
        "dicionario = {}\n",
        "\n",
        "for palavra in texto.split():\n",
        "  ate_agora = dicionario.get(palavra, 0)\n",
        "  dicionario[palavra] = ate_agora + 1\n",
        "\n",
        "dicionario"
      ],
      "execution_count": 6,
      "outputs": [
        {
          "output_type": "execute_result",
          "data": {
            "text/plain": [
              "{'bem': 1,\n",
              " 'cachorro': 2,\n",
              " 'de': 2,\n",
              " 'e': 2,\n",
              " 'eu': 1,\n",
              " 'gosto': 2,\n",
              " 'meu': 2,\n",
              " 'muito': 2,\n",
              " 'nome': 1,\n",
              " 'nomes': 1,\n",
              " 'o': 1,\n",
              " 'tenho': 1,\n",
              " 'vindo': 1,\n",
              " 'vinicius': 1,\n",
              " 'é': 1}"
            ]
          },
          "metadata": {},
          "execution_count": 6
        }
      ]
    },
    {
      "cell_type": "code",
      "metadata": {
        "colab": {
          "base_uri": "https://localhost:8080/"
        },
        "id": "2Dli8TddJU38",
        "outputId": "f534fb04-f85c-4d2a-f1a7-8bd95efbc200"
      },
      "source": [
        "from collections import defaultdict\n",
        "\n",
        "texto = 'Bem vindo meu nome é Vinicius eu gosto muito de nomes e tenho o meu cachorro e gosto muito de cachorro'\n",
        "texto = texto.lower()\n",
        "\n",
        "dicionario = defaultdict(int)\n",
        "\n",
        "for palavra in texto.split():\n",
        "  ate_agora = dicionario[palavra]\n",
        "  dicionario[palavra] = ate_agora + 1\n",
        "\n",
        "dicionario"
      ],
      "execution_count": 8,
      "outputs": [
        {
          "output_type": "execute_result",
          "data": {
            "text/plain": [
              "defaultdict(int,\n",
              "            {'bem': 1,\n",
              "             'cachorro': 2,\n",
              "             'de': 2,\n",
              "             'e': 2,\n",
              "             'eu': 1,\n",
              "             'gosto': 2,\n",
              "             'meu': 2,\n",
              "             'muito': 2,\n",
              "             'nome': 1,\n",
              "             'nomes': 1,\n",
              "             'o': 1,\n",
              "             'tenho': 1,\n",
              "             'vindo': 1,\n",
              "             'vinicius': 1,\n",
              "             'é': 1})"
            ]
          },
          "metadata": {},
          "execution_count": 8
        }
      ]
    },
    {
      "cell_type": "code",
      "metadata": {
        "id": "jOIZyq4vKxE6"
      },
      "source": [
        "dicionario = defaultdict(int)\n",
        "\n",
        "for palavra in texto.split():\n",
        "  dicionario[palavra] += 1\n",
        "\n",
        "dicionario"
      ],
      "execution_count": null,
      "outputs": []
    },
    {
      "cell_type": "code",
      "metadata": {
        "id": "HlImkFvDLy1g"
      },
      "source": [
        "class Conta:\n",
        "  def __init__(self):\n",
        "    print('Isso é uma conta')"
      ],
      "execution_count": 10,
      "outputs": []
    },
    {
      "cell_type": "code",
      "metadata": {
        "colab": {
          "base_uri": "https://localhost:8080/"
        },
        "id": "jEVt-9R8MJLf",
        "outputId": "dff96e8b-73d0-4c6f-88ed-e3ae8fe0bc64"
      },
      "source": [
        "contas = defaultdict(Conta)\n",
        "\n",
        "contas[17]\n",
        "contas[13]"
      ],
      "execution_count": 11,
      "outputs": [
        {
          "output_type": "stream",
          "name": "stdout",
          "text": [
            "Isso é uma conta\n",
            "Isso é uma conta\n"
          ]
        },
        {
          "output_type": "execute_result",
          "data": {
            "text/plain": [
              "<__main__.Conta at 0x7f98b3e9d710>"
            ]
          },
          "metadata": {},
          "execution_count": 11
        }
      ]
    },
    {
      "cell_type": "code",
      "metadata": {
        "colab": {
          "base_uri": "https://localhost:8080/"
        },
        "id": "xRbB10GFMWxl",
        "outputId": "9323bbc0-4786-425c-8994-b9fea1f9fc2b"
      },
      "source": [
        "from collections\timport Counter\n",
        "\n",
        "dicionario = Counter()\n",
        "\n",
        "for palavra in texto.split():\n",
        "  dicionario[palavra] += 1\n",
        "\n",
        "dicionario"
      ],
      "execution_count": 12,
      "outputs": [
        {
          "output_type": "execute_result",
          "data": {
            "text/plain": [
              "Counter({'bem': 1,\n",
              "         'cachorro': 2,\n",
              "         'de': 2,\n",
              "         'e': 2,\n",
              "         'eu': 1,\n",
              "         'gosto': 2,\n",
              "         'meu': 2,\n",
              "         'muito': 2,\n",
              "         'nome': 1,\n",
              "         'nomes': 1,\n",
              "         'o': 1,\n",
              "         'tenho': 1,\n",
              "         'vindo': 1,\n",
              "         'vinicius': 1,\n",
              "         'é': 1})"
            ]
          },
          "metadata": {},
          "execution_count": 12
        }
      ]
    },
    {
      "cell_type": "code",
      "metadata": {
        "colab": {
          "base_uri": "https://localhost:8080/"
        },
        "id": "2gta_RZqM246",
        "outputId": "e20d17e6-08c1-4004-89dd-fbba1df62d08"
      },
      "source": [
        "dicionario = Counter(texto.split())\n",
        "\n",
        "dicionario"
      ],
      "execution_count": 13,
      "outputs": [
        {
          "output_type": "execute_result",
          "data": {
            "text/plain": [
              "Counter({'bem': 1,\n",
              "         'cachorro': 2,\n",
              "         'de': 2,\n",
              "         'e': 2,\n",
              "         'eu': 1,\n",
              "         'gosto': 2,\n",
              "         'meu': 2,\n",
              "         'muito': 2,\n",
              "         'nome': 1,\n",
              "         'nomes': 1,\n",
              "         'o': 1,\n",
              "         'tenho': 1,\n",
              "         'vindo': 1,\n",
              "         'vinicius': 1,\n",
              "         'é': 1})"
            ]
          },
          "metadata": {},
          "execution_count": 13
        }
      ]
    },
    {
      "cell_type": "markdown",
      "metadata": {
        "id": "KJiM0lafNo28"
      },
      "source": [
        "# Usando coleções"
      ]
    },
    {
      "cell_type": "code",
      "metadata": {
        "id": "nvieSPFTNtoT"
      },
      "source": [
        "texto1 = '''\n",
        "Ambas as opções têm suas vantagens e desvantagens, principalmente em relação a distribuição e desempenho do nosso código. Um código compilado é feito para apenas um sistema, então se formos disponibilizá-lo para mais de um sistema, teremos que manter um código binário para cada. Por outro lado, um código interpretado pode ser facilmente distribuído entre vários sistemas, mas não tem o mesmo desempenho de um código compilado.\n",
        "\n",
        "As linguagens compiladas como C, C++, Fortran, Delphi e Pascal geralmente têm um melhor desempenho, enquanto linguagens interpretadas como C#, JavaScript, Python, PHP e Ruby tendem a ter uma portabilidade mais fácil, permitindo a execução em múltiplos sistemas.\n",
        "\n",
        "O que é um compilador\n",
        "O compilador é um programa que lê e analisa o código fonte da aplicação, ou seja, o código que nós escrevemos, e gera a partir dele um código binário que pode ser executado.\n",
        "\n",
        "Normalmente os compiladores são programas com uma lógica complexa, já que se utilizam de muitas técnicas para acelerar a aplicação e reduzir os requisitos do sistema onde essa aplicação irá ser executada. As principais tarefas dos compiladores são:\n",
        "\n",
        "Pré-processamento\n",
        "Essa é a primeira etapa para um compilador, onde o código fonte é incluído, analisado por erros de sintaxe, e macros ou definições são substituídos e processados. Essa etapa ocorre muito em linguagens como C e C++.\n",
        "\n",
        "Compilação\n",
        "Nessa etapa, o código fonte é transformado em um código assembly, um código muito próximo do de máquina, ou código binário. Contudo, ainda contém referências a arquivos externos, então não pode ser utilizado.\n",
        "\n",
        "Assembler\n",
        "Com o código assembly pronto, ele passa por um conversor, chamado assembler, para se tornar um código binário feito exclusivamente para um único sistema.\n",
        "\n",
        "Linker\n",
        "Essa é a última etapa do compilador, onde as bibliotecas, já compiladas, são adicionadas em nosso código binário, permitindo a criação de um arquivo binário executável.\n",
        "Alguns compiladores contêm mais tarefas, como otimização, e detecção de erros comuns, entre outras opções, ficando a cargo do criador do compilador definir todas elas, logo podemos ter vários compiladores para uma mesma linguagem, que passam por processo diferentes e acabam gerando códigos binários diferentes, como é o caso da linguagem C e C++ que tem mais de 30 compiladores diferentes.\n",
        "\n",
        "Código binário\n",
        "Os processadores não entendem palavras, eles contêm apenas circuitos que podem realizar ações, como operações matemáticas, e ler e gravar na memória. Então, para usarmos essas operações, precisamos escolher os circuitos, também chamados de instruções, e em seguida passar para eles os parâmetros em que queremos atuar.\n",
        "\n",
        "Podemos pensar nas instruções como se fossem funções predefinidas que aceitam alguns argumentos, e o trabalho do compilador é fazer com que todo o código seja executado por essas funções.\n",
        "\n",
        "Os circuitos são acionados, utilizados e desligados durante a execução de um programa porque o arquivo binário deste programa contém as operações que queremos realizar, sempre utilizando números binários, 0 e 1.\n",
        "\n",
        "Vamos utilizar um exemplo para facilitar um pouco a visualização dos códigos binários e a sua execução nos circuitos do processador.\n",
        "\n",
        "Ultilizando C para escrevermos um código fonte, temos\n",
        "'''"
      ],
      "execution_count": 19,
      "outputs": []
    },
    {
      "cell_type": "code",
      "metadata": {
        "id": "0NmM5GCVOfEl"
      },
      "source": [
        "texto2 = '''\n",
        "uanto tempo você passa, em média, no celular durante o dia? E desse tempo, quanto é usando a internet? Seja acessando o Google, redes sociais, sites e portais? Agora pense em todas as propagandas ou anúncios de lojas, serviços, produtos, que aparecem para você durante esse tempo: isso é Marketing Digital, esse conjunto de ações publicitárias praticadas pelas empresas e marcas no mundo online.\n",
        "\n",
        "Uma pesquisa feita em 2018 pelo IBGE concluiu que 8 em cada 10 lares brasileiros têm acesso à internet, e desses 8, cerca de 99% usam o celular como meio de acesso. Concluímos com esses números que, em média, 80% da população brasileira é impactada pelo mundo digital, e isso significa que a publicidade na internet já atinge muito mais da metade do Brasil. Olhando para números concretos, esses são os dados mais recentes, produzidos em outubro de 2020, pela parceria da We Are Social e a Hootsuite, sobre os internautas brasileiros em cada plataforma de interação online:\n",
        "\n",
        "Em meio a tanta interatividade e conexões, o Marketing Digital transformou a comunicação das pessoas e revolucionou o comportamento das marcas com os seus consumidores. Com as ações de publicidade online os anunciantes chegam direto ao seu potencial consumidor sem gastar tanto quanto as ações de publicidade tradicionais. Por exemplo, com apenas R$50 você consegue fazer uma publicação patrocinada no Instagram do seu negócio, e ainda direciona aquela postagem para o público alvo correto com as possibilidades de segmentação (sexo, idade, interesses, comportamento de compras online etc.) que só existem no Marketing Digital. Em contrapartida, com os mesmos R$50 você jamais conseguiria anunciar sua empresa em um Outdoor.\n",
        "\n",
        "Como começar o Marketing Digital da sua empresa\n",
        "Ter presença digital nos dias de hoje é basicamente uma obrigação para todo e qualquer negócio, é como ter o número de CNPJ. Se você tem uma microempresa, se é uma pessoa autônoma e atua como freelancer ou quer atuar, não importa o porte, o seu serviço/produto precisa de uma vitrine na internet para que seja encontrado por quem procura. O comportamento comum do consumidor atual é buscar referências de uma empresa, ou de um produto, na internet antes de efetuar a compra. Quantas vezes você já fez isso?\n",
        "\n",
        "Diante dessa informação, sei que você deve estar ansioso ou ansiosa para começar logo o marketing digital do seu produto, mas, também sei que deve estar com muitas dúvidas: Qual é a melhor plataforma? Preciso estar em todas as redes sociais? Como chegar ao público ideal? Calma! Existem estratégias certeiras que ajudam a responder a todas essas perguntas. A primeira delas é estudar marketing digital para saber posicionar o seu negócio na internet, se ainda não iniciou, o que está esperando? A Alura tem uma formação ótima sobre esse assunto. Enquanto isso, comece seguindo essas dicas básicas:\n",
        "\n",
        "Crie seus perfis (comerciais, e não pessoais) nas redes sociais que deseja atuar;\n",
        "Gere conteúdo de relevância para criar a sua audiência como, por exemplo, dicas sobre a produção do seu serviço, vídeos de backstage, curiosidades e diferenciais do seu produto, enfim, redes sociais são sobre relacionamento com o público;\n",
        "Crie conexões com a sua audiência - entenda o que o seu público gosta de ver nas suas redes, converse diretamente com eles e estreite o laço entre a empresa e o consumidor.\n",
        "'''"
      ],
      "execution_count": 15,
      "outputs": []
    },
    {
      "cell_type": "code",
      "metadata": {
        "colab": {
          "base_uri": "https://localhost:8080/"
        },
        "id": "qD8aDvvsOpoI",
        "outputId": "56671fe9-72b2-49ae-8170-1ec2b95c779b"
      },
      "source": [
        "len(texto2)"
      ],
      "execution_count": 17,
      "outputs": [
        {
          "output_type": "execute_result",
          "data": {
            "text/plain": [
              "3348"
            ]
          },
          "metadata": {},
          "execution_count": 17
        }
      ]
    },
    {
      "cell_type": "code",
      "metadata": {
        "colab": {
          "base_uri": "https://localhost:8080/"
        },
        "id": "aFNGdIF4OsHr",
        "outputId": "e8932d70-1087-4842-b0ce-28ffe4ebeb64"
      },
      "source": [
        "len(texto1)"
      ],
      "execution_count": 20,
      "outputs": [
        {
          "output_type": "execute_result",
          "data": {
            "text/plain": [
              "3254"
            ]
          },
          "metadata": {},
          "execution_count": 20
        }
      ]
    },
    {
      "cell_type": "code",
      "metadata": {
        "id": "DifAy58kO3Op"
      },
      "source": [
        "aparicoes = Counter(texto1.lower())\n",
        "total_caracteres = sum(aparicoes.values())\n",
        "\n",
        "for letra, frequencia in aparicoes.items():\n",
        "  tupla = (letra, frequencia / total_caracteres)\n",
        "  print(tupla)\n"
      ],
      "execution_count": null,
      "outputs": []
    },
    {
      "cell_type": "code",
      "metadata": {
        "id": "rbEEaKXOPqj4"
      },
      "source": [
        "def analisa_frequencia_e_proporcao(texto):\n",
        "  aparicoes = Counter(texto.lower())\n",
        "  total_caracteres = sum(aparicoes.values())\n",
        "\n",
        "  proporcoes = [(letra, frequencia / total_caracteres) for letra, frequencia in aparicoes.items()]\n",
        "  proporcoes = Counter(dict(proporcoes))\n",
        "  for caractere, proporcao in proporcoes.most_common(10):\n",
        "    print('{} => {:.2f}%'.format(caractere, proporcao * 100))"
      ],
      "execution_count": 40,
      "outputs": []
    },
    {
      "cell_type": "code",
      "metadata": {
        "colab": {
          "base_uri": "https://localhost:8080/"
        },
        "id": "8Wl45xVuQ1tf",
        "outputId": "dc3396f8-a469-48e2-b274-b2b7dbc013bd"
      },
      "source": [
        "analisa_frequencia_e_proporcao(texto1)"
      ],
      "execution_count": 41,
      "outputs": [
        {
          "output_type": "stream",
          "name": "stdout",
          "text": [
            "  => 14.94%\n",
            "o => 8.70%\n",
            "e => 8.70%\n",
            "a => 8.24%\n",
            "s => 6.85%\n",
            "i => 5.81%\n",
            "r => 5.41%\n",
            "m => 4.64%\n",
            "d => 3.90%\n",
            "c => 3.78%\n"
          ]
        }
      ]
    },
    {
      "cell_type": "code",
      "metadata": {
        "colab": {
          "base_uri": "https://localhost:8080/"
        },
        "id": "kxiRLnbmSd24",
        "outputId": "2f9cbcd5-a046-4caa-cb80-579f96a5efbf"
      },
      "source": [
        "analisa_frequencia_e_proporcao(texto2)"
      ],
      "execution_count": 42,
      "outputs": [
        {
          "output_type": "stream",
          "name": "stdout",
          "text": [
            "  => 16.07%\n",
            "e => 10.01%\n",
            "a => 9.35%\n",
            "o => 8.03%\n",
            "s => 7.29%\n",
            "i => 5.53%\n",
            "r => 5.17%\n",
            "n => 4.21%\n",
            "t => 4.06%\n",
            "c => 3.82%\n"
          ]
        }
      ]
    },
    {
      "cell_type": "code",
      "metadata": {
        "id": "f_yGo_gzSsrT"
      },
      "source": [
        ""
      ],
      "execution_count": null,
      "outputs": []
    }
  ]
}