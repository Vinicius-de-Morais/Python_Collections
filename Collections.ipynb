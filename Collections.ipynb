{
  "nbformat": 4,
  "nbformat_minor": 0,
  "metadata": {
    "colab": {
      "name": "Collections.ipynb",
      "provenance": [],
      "collapsed_sections": [],
      "authorship_tag": "ABX9TyOFXWA5KnfHJ6idrNWs+efB",
      "include_colab_link": true
    },
    "kernelspec": {
      "name": "python3",
      "display_name": "Python 3"
    },
    "language_info": {
      "name": "python"
    }
  },
  "cells": [
    {
      "cell_type": "markdown",
      "metadata": {
        "id": "view-in-github",
        "colab_type": "text"
      },
      "source": [
        "<a href=\"https://colab.research.google.com/github/Vinicius-de-Morais/Python_Collections/blob/main/Collections.ipynb\" target=\"_parent\"><img src=\"https://colab.research.google.com/assets/colab-badge.svg\" alt=\"Open In Colab\"/></a>"
      ]
    },
    {
      "cell_type": "markdown",
      "metadata": {
        "id": "uhKlIcGccl_l"
      },
      "source": [
        "#Introdução a Collections"
      ]
    },
    {
      "cell_type": "code",
      "metadata": {
        "id": "knUk3xjwcgxs"
      },
      "source": [
        "idade1 = 17\n",
        "idade2 = 20\n",
        "idade3 = 29\n",
        "\n",
        "print(idade1)\n",
        "print(idade2)\n",
        "print(idade3)\n"
      ],
      "execution_count": null,
      "outputs": []
    },
    {
      "cell_type": "code",
      "metadata": {
        "colab": {
          "base_uri": "https://localhost:8080/"
        },
        "id": "Wh1b-CwwdVPV",
        "outputId": "cf4d46de-8c5d-4e0a-f288-98fcff9cbed1"
      },
      "source": [
        "idades = [17,20,29]\n",
        "\n",
        "print(idades)\n",
        "type(idades)"
      ],
      "execution_count": null,
      "outputs": [
        {
          "output_type": "stream",
          "name": "stdout",
          "text": [
            "[17, 20, 29]\n"
          ]
        },
        {
          "output_type": "execute_result",
          "data": {
            "text/plain": [
              "list"
            ]
          },
          "metadata": {},
          "execution_count": 5
        }
      ]
    },
    {
      "cell_type": "code",
      "metadata": {
        "colab": {
          "base_uri": "https://localhost:8080/"
        },
        "id": "C9PZy1q7dsBe",
        "outputId": "b25267bf-3fc9-43fe-b006-3b459e270fcb"
      },
      "source": [
        "if 20 in idades:\n",
        "  idades.remove(20)\n",
        "  print(idades)"
      ],
      "execution_count": null,
      "outputs": [
        {
          "output_type": "stream",
          "name": "stdout",
          "text": [
            "[17, 29]\n"
          ]
        }
      ]
    },
    {
      "cell_type": "markdown",
      "metadata": {
        "id": "G5CKWDR-jCgW"
      },
      "source": [
        "#Objetos Próprios"
      ]
    },
    {
      "cell_type": "code",
      "metadata": {
        "id": "QMuHFlOrjHGD"
      },
      "source": [
        "class ContaCorrente:\n",
        "  def __init__(self, codigo):\n",
        "    self._codigo = codigo\n",
        "    self._saldo = 100\n",
        "\n",
        "  def deposita(self, valor):\n",
        "    self._saldo += valor\n",
        "\n",
        "  def __str__(self):\n",
        "    return f'[>> Código: {self._codigo} Saldo: {self._saldo} <<]'"
      ],
      "execution_count": null,
      "outputs": []
    },
    {
      "cell_type": "code",
      "metadata": {
        "colab": {
          "base_uri": "https://localhost:8080/"
        },
        "id": "94DifVKzkI2B",
        "outputId": "4dc4cc3b-195d-4739-d8d0-789262be7df6"
      },
      "source": [
        "conta = ContaCorrente(121212)\n",
        "print(conta)"
      ],
      "execution_count": null,
      "outputs": [
        {
          "output_type": "stream",
          "name": "stdout",
          "text": [
            "[>> Código: 121212 Saldo: 100<<]\n"
          ]
        }
      ]
    },
    {
      "cell_type": "code",
      "metadata": {
        "id": "GqXndQVpkRxB"
      },
      "source": [
        "# Tomar cuidado com a mutabilidade das listas"
      ],
      "execution_count": null,
      "outputs": []
    },
    {
      "cell_type": "markdown",
      "metadata": {
        "id": "qUHQiSvFl9Fh"
      },
      "source": [
        "# Tuplas"
      ]
    },
    {
      "cell_type": "code",
      "metadata": {
        "id": "Jf_4UUxZl-6u"
      },
      "source": [
        "vini = ('Vinicius', 17, 2003) #em tuplas é sempre importante manter a ordenação\n",
        "roger = ('Roger', 99, 1900)"
      ],
      "execution_count": null,
      "outputs": []
    },
    {
      "cell_type": "code",
      "metadata": {
        "id": "vsH6Ngflq5Se"
      },
      "source": [
        "conta_nova =  (2312, 100.0)\n",
        "\n",
        "def deposita(conta, valor):\n",
        "  saldo_novo = conta[1] + valor\n",
        "  conta_nova = conta[0]\n",
        "  conta_atualizada = (conta_nova, saldo_novo)\n",
        "  return conta_atualizada"
      ],
      "execution_count": null,
      "outputs": []
    },
    {
      "cell_type": "markdown",
      "metadata": {
        "id": "U6i6XUG_vNWg"
      },
      "source": [
        "# Herança e Polimorfismo"
      ]
    },
    {
      "cell_type": "code",
      "metadata": {
        "id": "MfmLorXyvSHB"
      },
      "source": [
        "from abc import ABCMeta, abstractmethod\n",
        "class Conta(metaclass=ABCMeta):\n",
        "  def __init__(self, codigo):\n",
        "    self._codigo = codigo\n",
        "    self._saldo = 100\n",
        "\n",
        "  def deposita(self, valor):\n",
        "    self._saldo += valor\n",
        "\n",
        "  @abstractmethod\n",
        "  def passa_mes(self):\n",
        "   pass \n",
        "\n",
        "  def __str__(self):\n",
        "    return f'[>> Código: {self._codigo} Saldo: {self._saldo} <<]'"
      ],
      "execution_count": null,
      "outputs": []
    },
    {
      "cell_type": "code",
      "metadata": {
        "id": "B_G2jfe3wm0y"
      },
      "source": [
        "class ContaCorrente(Conta):\n",
        "  def passa_mes(self):\n",
        "    self._saldo -= 2\n",
        "\n",
        "class ContaPoupanca(Conta):\n",
        "  def passa_mes(self):\n",
        "    self._saldo *= 1.01\n",
        "    self._saldo -= 3"
      ],
      "execution_count": null,
      "outputs": []
    },
    {
      "cell_type": "code",
      "metadata": {
        "colab": {
          "base_uri": "https://localhost:8080/"
        },
        "id": "XKK1RwnsxSo0",
        "outputId": "2537f82c-dfd1-4f17-dd83-998b7c4ff46c"
      },
      "source": [
        "conta13 = ContaCorrente(13)\n",
        "conta14 = ContaPoupanca(14)\n",
        "contas = [conta13, conta14]\n",
        "for conta in contas:\n",
        "  conta.passa_mes()\n",
        "  print (conta)"
      ],
      "execution_count": null,
      "outputs": [
        {
          "output_type": "stream",
          "name": "stdout",
          "text": [
            "[>> Código: 13 Saldo: 98 <<]\n",
            "[>> Código: 14 Saldo: 98.0 <<]\n"
          ]
        }
      ]
    },
    {
      "cell_type": "markdown",
      "metadata": {
        "id": "fzVNIyMFzHXv"
      },
      "source": [
        "# Array, evitaremos usar"
      ]
    },
    {
      "cell_type": "code",
      "metadata": {
        "id": "3rzFJhB0xsbM"
      },
      "source": [
        "import array as arr\n",
        "\n",
        "arr.array = ['d', [1.0, 1.1, 1.2]]"
      ],
      "execution_count": null,
      "outputs": []
    },
    {
      "cell_type": "code",
      "metadata": {
        "colab": {
          "base_uri": "https://localhost:8080/"
        },
        "id": "5ytC3YyW2Ibg",
        "outputId": "d4a66a4d-6e40-402e-fa90-b090110f4d91"
      },
      "source": [
        "# Se for necessário um alto desempenho e trabalho matemático\n",
        "# importaremos o  Numpy\n",
        "import numpy as np\n",
        "\n",
        "lista = np.array([1, 1.1, 1.7])\n",
        "lista"
      ],
      "execution_count": null,
      "outputs": [
        {
          "output_type": "execute_result",
          "data": {
            "text/plain": [
              "array([1. , 1.1, 1.7])"
            ]
          },
          "metadata": {},
          "execution_count": 17
        }
      ]
    },
    {
      "cell_type": "code",
      "metadata": {
        "id": "fv0YeRD221DY"
      },
      "source": [
        "class ContaSalario:\n",
        "  def __init__(self, codigo):\n",
        "    self._codigo = codigo\n",
        "    self._saldo = 100\n",
        "\n",
        "  def deposita(self, valor):\n",
        "    self._saldo += valor\n",
        "\n",
        "  def __eq__(self, outro):\n",
        "    if type(outro) != ContaSalario:  # caso queira usar comparações de classes filhas, usar o 'isinstance()'\n",
        "      return False  #                                                   ex: isinstance(outro, ContaSalario)\n",
        "\n",
        "    return self._codigo == outro._codigo  #importante usar o 'and' para comparar todos os atributos\n",
        "\n",
        "  def __str__(self):\n",
        "    return f'[>> Código: {self._codigo} Saldo: {self._saldo} <<]'\n",
        "\n",
        "  "
      ],
      "execution_count": null,
      "outputs": []
    },
    {
      "cell_type": "code",
      "metadata": {
        "colab": {
          "base_uri": "https://localhost:8080/"
        },
        "id": "gr8DFQ25vKhf",
        "outputId": "20aa3e69-9bdd-4773-cf12-f2e31b466af9"
      },
      "source": [
        "conta = ContaSalario(14)\n",
        "conta1 = ContaCorrente(14)\n",
        "conta2 = ContaSalario(14)\n",
        "\n",
        "print(conta == conta1)\n",
        "print(conta == conta2)"
      ],
      "execution_count": null,
      "outputs": [
        {
          "output_type": "stream",
          "name": "stdout",
          "text": [
            "False\n",
            "True\n"
          ]
        }
      ]
    },
    {
      "cell_type": "code",
      "metadata": {
        "colab": {
          "base_uri": "https://localhost:8080/"
        },
        "id": "a-BfCi-cvYi3",
        "outputId": "6b1717d1-d752-4407-ad27-d5eaad5af876"
      },
      "source": [
        "lista = [12,14,25,67,55]\n",
        "\n",
        "enumerate(lista) #lazy...\n",
        "\n",
        "list(enumerate(lista)) #forçando\n",
        "\n",
        "for i, numero in enumerate(lista): #desempacotando\n",
        "  print(i, 'x', numero)"
      ],
      "execution_count": null,
      "outputs": [
        {
          "output_type": "stream",
          "name": "stdout",
          "text": [
            "0 x 12\n",
            "1 x 14\n",
            "2 x 25\n",
            "3 x 67\n",
            "4 x 55\n"
          ]
        }
      ]
    },
    {
      "cell_type": "code",
      "metadata": {
        "colab": {
          "base_uri": "https://localhost:8080/"
        },
        "id": "_ntW1_K418NM",
        "outputId": "6cab9607-247a-497f-926f-554d336f1731"
      },
      "source": [
        "user = [\n",
        "        ('jojo', 18, 1900),\n",
        "        ('Steve', 49,1970),\n",
        "        ('Cesar', 100, 1921)\n",
        "]\n",
        "\n",
        "for nome, idade, ano in user: # Mostrando que não precisamos ultilizar todos os elementos\n",
        "  print(nome)"
      ],
      "execution_count": null,
      "outputs": [
        {
          "output_type": "stream",
          "name": "stdout",
          "text": [
            "jojo\n",
            "Steve\n",
            "Cesar\n"
          ]
        }
      ]
    },
    {
      "cell_type": "code",
      "metadata": {
        "colab": {
          "base_uri": "https://localhost:8080/"
        },
        "id": "xJwHwj6q2mDZ",
        "outputId": "f49e8854-3e97-4c71-c235-d40328bdf646"
      },
      "source": [
        "print('Ordenação:')\n",
        "print('Crescente',sorted(lista))\n",
        "print('Decrescente', list(reversed(sorted(lista)))) #lazy...\n",
        "print('Decrescente',sorted(lista, reverse=True))\n",
        "# Também tem o .sort() da própria lista, mas ele altera a própria lista"
      ],
      "execution_count": null,
      "outputs": [
        {
          "output_type": "stream",
          "name": "stdout",
          "text": [
            "Ordenação:\n",
            "Crescente [12, 14, 25, 55, 67]\n",
            "Decrescente [67, 55, 25, 14, 12]\n",
            "Decrescente [67, 55, 25, 14, 12]\n"
          ]
        }
      ]
    },
    {
      "cell_type": "code",
      "metadata": {
        "id": "9KU4svA533zg"
      },
      "source": [
        "class ContaSalario:\n",
        "  def __init__(self, codigo):\n",
        "    self._codigo = codigo\n",
        "    self._saldo = 100\n",
        "\n",
        "  def deposita(self, valor):\n",
        "    self._saldo += valor\n",
        "\n",
        "  def __eq__(self, outro):\n",
        "    if type(outro) != ContaSalario:  \n",
        "      return False                                                   \n",
        "\n",
        "    return self._codigo == outro._codigo  \n",
        "\n",
        "  def __lt__(self, outro): # Função especial para exercer comparação entre maior e menor\n",
        "    if self._saldo != outro._saldo:\n",
        "      return self._saldo < outro._saldo\n",
        "    # critério de desempate -^\n",
        "    return self._codigo < outro._codigo\n",
        "\n",
        "  def __str__(self):\n",
        "    return f'[>> Código: {self._codigo} Saldo: {self._saldo} <<]'"
      ],
      "execution_count": null,
      "outputs": []
    },
    {
      "cell_type": "code",
      "metadata": {
        "colab": {
          "base_uri": "https://localhost:8080/"
        },
        "id": "55AUXL3W0Vum",
        "outputId": "b7c24933-4ee2-459b-e04c-9556b6ece4ad"
      },
      "source": [
        "conta_jorge = ContaSalario(12)\n",
        "conta_jorge.deposita(1000)\n",
        "conta_tracy = ContaSalario(1)\n",
        "conta_tracy.deposita(1000)\n",
        "conta_mario = ContaSalario(2)\n",
        "conta_mario.deposita(150)\n",
        "\n",
        "contas = [conta_jorge, conta_mario, conta_tracy]\n",
        "\n",
        "for conta in sorted(contas):\n",
        "  print(conta)"
      ],
      "execution_count": null,
      "outputs": [
        {
          "output_type": "stream",
          "name": "stdout",
          "text": [
            "[>> Código: 2 Saldo: 250 <<]\n",
            "[>> Código: 1 Saldo: 1100 <<]\n",
            "[>> Código: 12 Saldo: 1100 <<]\n"
          ]
        }
      ]
    },
    {
      "cell_type": "code",
      "metadata": {
        "colab": {
          "base_uri": "https://localhost:8080/"
        },
        "id": "d8XEJr8e00np",
        "outputId": "d0879d5f-a7dd-4667-f9d2-4b5cbc5ff3f9"
      },
      "source": [
        "from operator import attrgetter\n",
        "\n",
        "for conta in sorted(contas, key=attrgetter('_saldo', '_codigo')):\n",
        "  print(conta)"
      ],
      "execution_count": null,
      "outputs": [
        {
          "output_type": "stream",
          "name": "stdout",
          "text": [
            "[>> Código: 2 Saldo: 250 <<]\n",
            "[>> Código: 1 Saldo: 1100 <<]\n",
            "[>> Código: 12 Saldo: 1100 <<]\n"
          ]
        }
      ]
    },
    {
      "cell_type": "code",
      "metadata": {
        "id": "54Rgikxc2xJO"
      },
      "source": [
        "from functools import total_ordering\n",
        "@total_ordering # ele da o poder de usar <= ou >=\n",
        "class ContaSalario:\n",
        "  def __init__(self, codigo):\n",
        "    self._codigo = codigo\n",
        "    self._saldo = 100\n",
        "\n",
        "  def deposita(self, valor):\n",
        "    self._saldo += valor\n",
        "\n",
        "  def __eq__(self, outro):\n",
        "    if type(outro) != ContaSalario:  \n",
        "      return False                                                   \n",
        "\n",
        "    return self._codigo == outro._codigo  \n",
        "\n",
        "  def __lt__(self, outro): \n",
        "    if self._saldo != outro._saldo:\n",
        "      return self._saldo < outro._saldo\n",
        "\n",
        "    return self._codigo < outro._codigo\n",
        "\n",
        "  def __str__(self):\n",
        "    return f'[>> Código: {self._codigo} Saldo: {self._saldo} <<]'"
      ],
      "execution_count": null,
      "outputs": []
    },
    {
      "cell_type": "code",
      "metadata": {
        "colab": {
          "base_uri": "https://localhost:8080/"
        },
        "id": "CyFaGU9R4qD6",
        "outputId": "8cb5aa8f-54f4-425f-b3df-a491af4058ba"
      },
      "source": [
        "conta_jorge = ContaSalario(12)\n",
        "conta_jorge.deposita(1000)\n",
        "conta_tracy = ContaSalario(1)\n",
        "conta_tracy.deposita(1000)\n",
        "conta_mario = ContaSalario(2)\n",
        "conta_mario.deposita(150)\n",
        "\n",
        "conta_jorge <= conta_tracy"
      ],
      "execution_count": null,
      "outputs": [
        {
          "output_type": "execute_result",
          "data": {
            "text/plain": [
              "False"
            ]
          },
          "metadata": {},
          "execution_count": 21
        }
      ]
    },
    {
      "cell_type": "code",
      "metadata": {
        "id": "yVgjcIY34zAS"
      },
      "source": [
        ""
      ],
      "execution_count": null,
      "outputs": []
    }
  ]
}